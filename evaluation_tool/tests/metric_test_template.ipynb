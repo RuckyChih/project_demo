{
 "cells": [
  {
   "cell_type": "code",
   "execution_count": 34,
   "id": "0357f1a7-27d3-4466-9f0b-8b440fdd9436",
   "metadata": {},
   "outputs": [],
   "source": [
    "import setting\n",
    "import sys\n",
    "\n",
    "sys.path.append('..')\n",
    "import os\n",
    "os.getcwd()\n",
    "os.chdir('..')\n",
    "\n",
    "import pandas as pd\n",
    "pd.set_option('display.max_rows' , 500)\n",
    "pd.set_option('display.max_columns' , 200)\n",
    "\n",
    "\n",
    "from sample.data_prep.data_extract import Dataset\n"
   ]
  },
  {
   "cell_type": "code",
   "execution_count": 38,
   "id": "c40fe8e2-5524-4434-a826-982b0c28aa5e",
   "metadata": {},
   "outputs": [
    {
     "data": {
      "text/plain": [
       "'/Users/pinkoi/Projects/analytics/evaluation_tool'"
      ]
     },
     "execution_count": 38,
     "metadata": {},
     "output_type": "execute_result"
    }
   ],
   "source": [
    "os.getcwd()"
   ]
  },
  {
   "cell_type": "code",
   "execution_count": 33,
   "id": "05c010c0-0e1a-4460-a41a-633a09df6229",
   "metadata": {},
   "outputs": [],
   "source": [
    "%reload_ext autoreload\n",
    "%autoreload 2\n"
   ]
  },
  {
   "cell_type": "markdown",
   "id": "91d89c02-a489-4512-b6ce-a80f305b69b0",
   "metadata": {},
   "source": [
    "# extract data"
   ]
  },
  {
   "cell_type": "markdown",
   "id": "e36f5747-b25a-41d0-bc87-e633a6f9e78a",
   "metadata": {},
   "source": [
    "## exp_data"
   ]
  },
  {
   "cell_type": "code",
   "execution_count": 11,
   "id": "bfef1ade-6bc9-4f08-a209-58d6ed5d7c0a",
   "metadata": {},
   "outputs": [
    {
     "name": "stdout",
     "output_type": "stream",
     "text": [
      "\n",
      "            select \n",
      "                coalesce(nullif(uid,''),beacon) as beacon_uid ,uid , beacon, exp_id, var_id, date(created) as created_date\n",
      "                from ath_experiment\n",
      "                where exp_id = 'beq_for_you_abexp'\n",
      "                -- experiment table 不篩時間，只篩最後的 created\n",
      "                -- 彈性的時間篩選\n",
      "                and date(created) <= date '2023-10-1'\n",
      "            \n"
     ]
    }
   ],
   "source": [
    "data_ = Dataset('beq_for_you_abexp' , '2023-9-13' , '2023-10-1' )                \n",
    "\n",
    "# 先用 sql_query_prepare 組合 sql\n",
    "# extract_data 用來區分這次要撈的資料類型\n",
    "\n",
    "data_.sql_query_prepare(extract_data = 'exp_data')\n",
    "print(data_.sql_query) \n",
    "    \n",
    "# 用 data_extraction 來取得 dataframe\n",
    "# raw_data = data_.data_extraction(extract_data= 'exp_data')\n"
   ]
  },
  {
   "cell_type": "code",
   "execution_count": null,
   "id": "ac4e43e3-58b0-4bc3-b0ce-cccf4646a0b3",
   "metadata": {},
   "outputs": [
    {
     "name": "stdout",
     "output_type": "stream",
     "text": [
      "\n",
      "            select \n",
      "                coalesce(nullif(uid,''),beacon) as beacon_uid ,uid , beacon, exp_id, var_id, date(created) as created_date\n",
      "                from ath_experiment\n",
      "                where exp_id = 'beq_for_you_abexp'\n",
      "                -- experiment table 不篩時間，只篩最後的 created\n",
      "                -- 彈性的時間篩選\n",
      "                and date(created) between date '2023-9-14' and date '2023-10-1'\n",
      "            \n"
     ]
    }
   ],
   "source": [
    "# exp_start_datea 可以設定 exp 分組的起始時間\n",
    "data_ = Dataset('beq_for_you_abexp' , '2023-9-13' , '2023-10-1' ,exp_start_date = '2023-9-14')                \n",
    "data_.sql_query_prepare('exp_data')\n",
    "print(data_.sql_query) \n"
   ]
  },
  {
   "cell_type": "markdown",
   "id": "1d5fe964-1ee5-4436-90fb-a2c1719e07ef",
   "metadata": {},
   "source": [
    "## raw_data (a/aa, SRM)"
   ]
  },
  {
   "cell_type": "code",
   "execution_count": 15,
   "id": "5c78829a-9f5a-44bc-9926-0d4ea5850a3f",
   "metadata": {
    "tags": []
   },
   "outputs": [],
   "source": [
    "# trigger 用 dict 的方式記錄，共有 3 層\n",
    "# event_name 在最外層，用 or 串接\n",
    "# tracking param 在中間層用 and 串接，param 如果用 () 包起，其中用 or\n",
    "# 內層設置 cal: 計算邏輯, value: 設定的值, param 如果是 dict_list 要輸入 dict_key:\n",
    "# 如果輸入 xxx(event_name):None, 只會篩選 event_name = 'xxx'\n",
    "\n",
    "data_ = Dataset('beq_for_you_abexp' , '2023-9-13' , '2023-10-1' ,exp_start_date = '2023-9-14',\n",
    "                 device = ['iphone' ,'android'] , \n",
    "                 version= '6.23.0' ,\n",
    "                trigger = {'view_feed': None})\n",
    "\n",
    "\n",
    "# data_.sql_query_prepare('raw_data')\n",
    "# print(data_.sql_query) \n",
    "\n",
    "# extract_data = raw_data 取 a/aa 的指標，會串接 journey，如果有 trigger,lang 也會一並串接 tracking\n",
    "raw_data = data_.data_extraction(extract_data= 'raw_data')\n"
   ]
  },
  {
   "cell_type": "code",
   "execution_count": 17,
   "id": "d2f3decd-231b-4cc4-95c2-9986fdf43d35",
   "metadata": {},
   "outputs": [
    {
     "data": {
      "text/html": [
       "<div>\n",
       "<style scoped>\n",
       "    .dataframe tbody tr th:only-of-type {\n",
       "        vertical-align: middle;\n",
       "    }\n",
       "\n",
       "    .dataframe tbody tr th {\n",
       "        vertical-align: top;\n",
       "    }\n",
       "\n",
       "    .dataframe thead th {\n",
       "        text-align: right;\n",
       "    }\n",
       "</style>\n",
       "<table border=\"1\" class=\"dataframe\">\n",
       "  <thead>\n",
       "    <tr style=\"text-align: right;\">\n",
       "      <th></th>\n",
       "      <th>exp_id</th>\n",
       "      <th>var_id</th>\n",
       "      <th>beacon_uid</th>\n",
       "      <th>device</th>\n",
       "      <th>device_avg_view_item</th>\n",
       "      <th>device_avg_duration</th>\n",
       "      <th>device_e2</th>\n",
       "      <th>all_avg_view_item</th>\n",
       "      <th>all_avg_duration</th>\n",
       "      <th>all_e2</th>\n",
       "    </tr>\n",
       "  </thead>\n",
       "  <tbody>\n",
       "    <tr>\n",
       "      <th>0</th>\n",
       "      <td>beq_for_you_abexp</td>\n",
       "      <td>1</td>\n",
       "      <td>ll_riza6iskclwudunovapbyrhkuy</td>\n",
       "      <td>iphone</td>\n",
       "      <td>12.0</td>\n",
       "      <td>1790.5</td>\n",
       "      <td>True</td>\n",
       "      <td>12.0</td>\n",
       "      <td>1790.5</td>\n",
       "      <td>True</td>\n",
       "    </tr>\n",
       "    <tr>\n",
       "      <th>1</th>\n",
       "      <td>beq_for_you_abexp</td>\n",
       "      <td>1</td>\n",
       "      <td>fb_10227075614688968</td>\n",
       "      <td>iphone</td>\n",
       "      <td>7.0</td>\n",
       "      <td>129.0</td>\n",
       "      <td>True</td>\n",
       "      <td>7.0</td>\n",
       "      <td>129.0</td>\n",
       "      <td>True</td>\n",
       "    </tr>\n",
       "    <tr>\n",
       "      <th>2</th>\n",
       "      <td>beq_for_you_abexp</td>\n",
       "      <td>0</td>\n",
       "      <td>sanna1221</td>\n",
       "      <td>iphone</td>\n",
       "      <td>0.0</td>\n",
       "      <td>130.0</td>\n",
       "      <td>False</td>\n",
       "      <td>0.0</td>\n",
       "      <td>130.0</td>\n",
       "      <td>False</td>\n",
       "    </tr>\n",
       "    <tr>\n",
       "      <th>3</th>\n",
       "      <td>beq_for_you_abexp</td>\n",
       "      <td>0</td>\n",
       "      <td>pupss91190</td>\n",
       "      <td>iphone</td>\n",
       "      <td>7.0</td>\n",
       "      <td>561.0</td>\n",
       "      <td>True</td>\n",
       "      <td>7.0</td>\n",
       "      <td>561.0</td>\n",
       "      <td>True</td>\n",
       "    </tr>\n",
       "    <tr>\n",
       "      <th>4</th>\n",
       "      <td>beq_for_you_abexp</td>\n",
       "      <td>2</td>\n",
       "      <td>fb_925805514565893</td>\n",
       "      <td>iphone</td>\n",
       "      <td>41.0</td>\n",
       "      <td>2507.0</td>\n",
       "      <td>True</td>\n",
       "      <td>41.0</td>\n",
       "      <td>2507.0</td>\n",
       "      <td>True</td>\n",
       "    </tr>\n",
       "  </tbody>\n",
       "</table>\n",
       "</div>"
      ],
      "text/plain": [
       "              exp_id  var_id                     beacon_uid  device  \\\n",
       "0  beq_for_you_abexp       1  ll_riza6iskclwudunovapbyrhkuy  iphone   \n",
       "1  beq_for_you_abexp       1           fb_10227075614688968  iphone   \n",
       "2  beq_for_you_abexp       0                      sanna1221  iphone   \n",
       "3  beq_for_you_abexp       0                     pupss91190  iphone   \n",
       "4  beq_for_you_abexp       2             fb_925805514565893  iphone   \n",
       "\n",
       "   device_avg_view_item  device_avg_duration  device_e2  all_avg_view_item  \\\n",
       "0                  12.0               1790.5       True               12.0   \n",
       "1                   7.0                129.0       True                7.0   \n",
       "2                   0.0                130.0      False                0.0   \n",
       "3                   7.0                561.0       True                7.0   \n",
       "4                  41.0               2507.0       True               41.0   \n",
       "\n",
       "   all_avg_duration  all_e2  \n",
       "0            1790.5    True  \n",
       "1             129.0    True  \n",
       "2             130.0   False  \n",
       "3             561.0    True  \n",
       "4            2507.0    True  "
      ]
     },
     "execution_count": 17,
     "metadata": {},
     "output_type": "execute_result"
    }
   ],
   "source": [
    "# raw_data 會切分 device, all 的 metric ，其中 beacon_uid 重複的 row all_metric 會是相同的\n",
    "raw_data.head()"
   ]
  },
  {
   "cell_type": "code",
   "execution_count": 19,
   "id": "afd7c321-15dd-4368-aa62-e6ba0c6a44bf",
   "metadata": {},
   "outputs": [],
   "source": [
    "# version 可以設定為  {'android':'6.23.0' , 'iphone':'6.23.2'}，用來 input 不同的 version\n",
    "data_ = Dataset('beq_for_you_abexp' , '2023-9-13' , '2023-10-1' ,exp_start_date = '2023-9-14',\n",
    "                 device = ['iphone' ,'android'] , \n",
    "                 version= {'android':'6.23.0' , 'iphone':'6.23.2'},\n",
    "                trigger = {'view_feed': None})\n",
    "\n",
    "\n"
   ]
  },
  {
   "cell_type": "code",
   "execution_count": 61,
   "id": "26256a19-2de5-4cb1-98c8-61b64b9a26be",
   "metadata": {},
   "outputs": [],
   "source": [
    "# trigger 可以設置 params 以及 value，其中用 dict 包住 param:value\n",
    "# 其中 dict 中的 param 默認會用 and 做串連，而用 tuple 包住的默認會用 or 串連\n",
    "\n",
    "data_ = Dataset('beq_for_you_abexp' , '2023-9-13' , '2023-10-1' ,exp_start_date = '2023-9-14',\n",
    "                 device = ['iphone' ,'android'] , \n",
    "                 version= {'android':'6.23.0' , 'iphone':'6.23.2'},\n",
    "                trigger = {'view_feed': ({'from_screen':'navi_browse' , 'screen_name':'feed'}, {'from_screen':'feed_onboarding'})})\n",
    "# data_.sql_query_prepare('raw_data')\n",
    "# print(data_.sql_query) \n",
    "\n",
    "\n",
    "# trigger 會被轉化 ->\n",
    "# ((event_name = 'view_feed' and \n",
    "# ((event_params_map['from_screen'].string_value in ('navi_browse') and event_params_map['screen_name'].string_value in ('feed')) \n",
    "#  or \n",
    "#  (event_params_map['from_screen'].string_value in ('feed_onboarding')))))"
   ]
  },
  {
   "cell_type": "code",
   "execution_count": 60,
   "id": "20972d6f-8041-4112-b2ed-3760a575e611",
   "metadata": {},
   "outputs": [],
   "source": [
    "# param 中可以為 str，會默認用 in，但也可以設置為 dict {cal:xx , value:xx}\n",
    "\n",
    "data_ = Dataset('beq_for_you_abexp' , '2023-9-13' , '2023-10-1' ,exp_start_date = '2023-9-14',\n",
    "                 device = ['iphone' ,'android'] , \n",
    "                 version= {'android':'6.23.0' , 'iphone':'6.23.2'},\n",
    "                trigger = {'view_feed': {'from_screen':{'cal':'in','value':['navi_browse' , 'feed_onboarding']} , 'screen_name':'feed'}})\n",
    "\n",
    "\n",
    "# trigger 會被轉化 ->\n",
    "# ((event_name = 'view_feed' and \n",
    "# ((event_params_map['from_screen'].string_value in ('navi_browse' , 'feed_onboarding') and event_params_map['screen_name'].string_value in ('feed'))))"
   ]
  },
  {
   "cell_type": "markdown",
   "id": "6f812c88-97c3-4d99-9ed0-17ad9e778299",
   "metadata": {},
   "source": [
    "## metric_data"
   ]
  },
  {
   "cell_type": "markdown",
   "id": "c2816c53-17e6-4883-b0bf-80105a54cd9b",
   "metadata": {},
   "source": [
    "metric 用 dict 紀錄，裡面主要包含兩大塊 metric_trigger, metric_main，一次只能算一個 metric，可以有多個 metric trigger\n",
    "\n",
    "metric_trigger 是紀錄 metric 額外的 trigger ，會限制計算的 base \n",
    "\n",
    "    可以用 tuple 包不同 source 的 trigger, e.g. adoption e1->e2 trigger adoption,e1\n",
    "    {metric_trigger:({source:'journey' , param:{funnel_e1:None}} , {source:'tracking' , param:{trigger_map}})\n",
    "\n",
    "metric_main 是 metric 的計算邏輯，裡面主要包含 metirc 以及 condition\n",
    "\n",
    "    condition 可以視為 metric 的 where 條件，是 metric 的計算 base e.g. measure_dwell_time 需要 condition 設置 view_item\n",
    "    metirc 是計算正式的 param e.g. measure_dwell_time 的 metric 設置為 current_timer, view_item_cnt 則 metric 是 view_id\n",
    "    main 裡如果是 boolean 可以只有 condition，但如果 journey metric 的部分特別會放在 metric 中\n",
    "    metric_main:{metric_name:xxx , 'source':'tracking' , group_level':'event' ,event_type = 'event_on_screen', method:'boolean/count_distinct',  condition:{} , metric:{}}}\n",
    "\n",
    "source: 取用的 data source\n",
    "\n",
    "group_level: 後續要 group 的層級，user, day, event e.g. 平均每日的 session_duration 為 day\n",
    "\n",
    "method: 底層 group by 計算的邏輯 e.g. 每個 view_event 'max' 的 measure_dwell_time ，其中 boolean, count_distinct 為輸入會特殊處理\n",
    "\n",
    "event_type: tracking metric 的類型 可設可不設，會用是不是 view 開頭判斷\n",
    "\n",
    "param: trigger 的 condition 要計算的 event -> 跟 trigger 同架構\n",
    "\n",
    "condition: metric 的條件 e.g. measure_dwell_time 的是 view_item, shop->item 是 view_item:{from_screen:shop}\n"
   ]
  },
  {
   "cell_type": "code",
   "execution_count": 106,
   "id": "2f543f03-c547-41fe-9356-c03582d8094a",
   "metadata": {
    "tags": []
   },
   "outputs": [],
   "source": [
    "# metric 一次僅能算一個，主要由 metric_trigger 以及 metric_main 控制\n",
    "\n",
    "# e.g. funnel e1->e2\n",
    "data_ = Dataset('beq_for_you_abexp' , '2023-9-13' , '2023-10-1' ,\n",
    "                 device = ['iphone' ,'android' ] , \n",
    "                 version= '6.23.0' ,\n",
    "                trigger = {'view_feed': None},\n",
    "                metric = {\n",
    "                    'metric_trigger':{'source':'journey' , 'param':{'funnel_e1':None}},\n",
    "                    'metric_main':{'metric_name':'e1_e2' , 'source':'journey' , 'group_level':'user' ,'method':'boolean', \n",
    "                                'metric':{'funnel_e2':None}}}\n",
    "\n",
    ")\n",
    "\n",
    "# data_.sql_query_prepare(extract_data= 'metric_data')\n",
    "# print(data_.sql_query)\n",
    "\n",
    "\n",
    "e1_e2_data = data_.data_extraction(extract_data= 'metric_data')\n",
    "\n"
   ]
  },
  {
   "cell_type": "code",
   "execution_count": 68,
   "id": "d4dbce54-e14c-4217-adaf-5379026bf067",
   "metadata": {
    "tags": []
   },
   "outputs": [],
   "source": [
    "# e.g. session_duration per_day\n",
    "# method 用 sum ，method 的定義為 group by level 當層的 agg function， session_duration 可能一天多筆 (多 device)，所以用 sum agg，後續的層級統一用 avg (會算到 per user)\n",
    "data_ = Dataset('beq_for_you_abexp' , '2023-9-13' , '2023-10-1' ,\n",
    "                 device = ['iphone' ,'android' ] , \n",
    "                 version= '6.23.0' ,\n",
    "                trigger = {'view_feed': None},\n",
    "                metric = {\n",
    "                    'metric_main':{'metric_name':'session_duration_per_day' , 'source':'journey' , 'group_level':'day' ,'method':'sum', \n",
    "                                'metric':{'session_duration':None}} }                \n",
    ")\n",
    "\n",
    "\n",
    "\n",
    "# data_.sql_query_prepare(extract_data= 'metric_data')\n",
    "# print(data_.sql_query)"
   ]
  },
  {
   "cell_type": "code",
   "execution_count": 105,
   "id": "6e3abe52-3acf-4b6c-b0d2-4c1013478e3c",
   "metadata": {},
   "outputs": [],
   "source": [
    "# 如果 metric 是 journey ，可以直接在 metric 設置閾值算 boolean\n",
    "\n",
    "data_ = Dataset('beq_for_you_abexp' , '2023-9-13' , '2023-10-1' ,\n",
    "                 device = ['iphone' ,'android'] , \n",
    "                 version= '6.23.0' ,\n",
    "                trigger = {'view_feed': None},\n",
    "                metric = {\n",
    "                    'metric_main':{'metric_name':'session_duration_more_than_10min' , 'source':'journey' , 'group_level':'day' ,'method':'boolean', \n",
    "                                'metric':{'session_duration':{'cal':'>=' , 'value':'600'}}} }                \n",
    ")\n",
    "\n",
    "data_.sql_query_prepare(extract_data= 'metric_data')\n",
    "# print(data_.sql_query)"
   ]
  },
  {
   "cell_type": "code",
   "execution_count": 74,
   "id": "98ee43b0-1a05-4c5e-a3b8-212895f20bf5",
   "metadata": {
    "tags": []
   },
   "outputs": [
    {
     "name": "stdout",
     "output_type": "stream",
     "text": [
      "                    metric_final as (\n",
      "                    select beacon , device, date(event_timestamp) as date_,\n",
      "                    event_params_map['view_id'].string_value as \"avg.view_feed\"\n",
      "                    from ath_st_client_side_tracking_without_dirt t \n",
      "                    where date(event_date) between date '2023-9-13' and date '2023-10-02' -- event_date 要多取一天\n",
      "                    and date(event_timestamp) between date '2023-9-13' and date '2023-10-1'\n",
      "                    and device in ('iphone','android')\n",
      "                    \n",
      "                    and ((event_name = 'view_feed'))\n",
      "                    ),\n",
      "\n"
     ]
    }
   ],
   "source": [
    "# e.g. avg.view_feed \n",
    "data_ = Dataset('beq_for_you_abexp' , '2023-9-13' , '2023-10-1' ,\n",
    "                 device = ['iphone' ,'android' ] , \n",
    "                 version= '6.23.0' ,\n",
    "                # trigger = {'view_feed': None},\n",
    "                metric = {\n",
    "                    'metric_main':{'metric_name':'avg.view_feed' , 'source':'tracking' , 'group_level':'user' ,'method':'count_distinct', \n",
    "                                'metric':{'view_feed':'view_id'}}}\n",
    "\n",
    ")\n",
    "# data_.sql_query_prepare(extract_data= 'metric_data')\n",
    "# print(data_.sql_query)\n",
    "\n",
    "print('''                    metric_final as (\n",
    "                    select beacon , device, date(event_timestamp) as date_,\n",
    "                    event_params_map['view_id'].string_value as \"avg.view_feed\"\n",
    "                    from ath_st_client_side_tracking_without_dirt t \n",
    "                    where date(event_date) between date '2023-9-13' and date '2023-10-02' -- event_date 要多取一天\n",
    "                    and date(event_timestamp) between date '2023-9-13' and date '2023-10-1'\n",
    "                    and device in ('iphone','android')\n",
    "                    \n",
    "                    and ((event_name = 'view_feed'))\n",
    "                    ),\n",
    "''')"
   ]
  },
  {
   "cell_type": "code",
   "execution_count": 96,
   "id": "7e7fc042-42bb-4cb4-8f4e-63e7b0c3dbdf",
   "metadata": {
    "tags": []
   },
   "outputs": [
    {
     "name": "stdout",
     "output_type": "stream",
     "text": [
      "          metric_final as (\n",
      "                    select beacon , device, date(event_timestamp) as date_,\n",
      "                    event_params_map['view_id'].string_value,\n",
      "                    max((coalesce(event_params_map['current_timer'].int_value , 0))) as \"avg.dwell_time_from_feed_per_view\"\n",
      "                    from ath_st_client_side_tracking_without_dirt t \n",
      "                    where date(event_date) between date '2023-9-13' and date '2023-10-02' -- event_date 要多取一天\n",
      "                    and date(event_timestamp) between date '2023-9-13' and date '2023-10-1'\n",
      "                    and device in ('iphone','android')\n",
      "                    \n",
      "                    and ((event_name = 'view_feed') or (event_name = 'measure_dwell_time' and ((event_params_map['screen_name'].string_value in ('feed')))))\n",
      "                    group by (event_params_map['view_id'].string_value) ,beacon , device ,date(event_timestamp)\n",
      "                    ),\n",
      "\n",
      "\n"
     ]
    }
   ],
   "source": [
    "# e.g. avg.dwell_time_from_feed_per_view \n",
    "data_ = Dataset('beq_for_you_abexp' , '2023-9-13' , '2023-10-1' ,\n",
    "                 device = ['iphone' ,'android' ] , \n",
    "                 version= '6.23.0' ,\n",
    "                trigger = {'view_feed': None},\n",
    "                metric = {\n",
    "                    # 'metric_trigger':{'source':'tracking','param':{'view_feed':None}},\n",
    "                    'metric_main':{'metric_name':'avg.dwell_time_from_feed_per_view' , 'source':'tracking' , 'group_level':'event' ,'method':'max', \n",
    "                                   'condition':{'measure_dwell_time':{'screen_name':'feed'} ,'view_feed':None},\n",
    "                                'metric':{'measure_dwell_time':'current_timer'}}}\n",
    "\n",
    ")\n",
    "\n",
    "\n",
    "# data_.sql_query_prepare(extract_data= 'metric_data')\n",
    "# print(data_.sql_query)\n",
    "\n",
    "\n",
    "print('''          metric_final as (\n",
    "                    select beacon , device, date(event_timestamp) as date_,\n",
    "                    event_params_map['view_id'].string_value,\n",
    "                    max((coalesce(event_params_map['current_timer'].int_value , 0))) as \"avg.dwell_time_from_feed_per_view\"\n",
    "                    from ath_st_client_side_tracking_without_dirt t \n",
    "                    where date(event_date) between date '2023-9-13' and date '2023-10-02' -- event_date 要多取一天\n",
    "                    and date(event_timestamp) between date '2023-9-13' and date '2023-10-1'\n",
    "                    and device in ('iphone','android')\n",
    "                    \n",
    "                    and ((event_name = 'view_feed') or (event_name = 'measure_dwell_time' and ((event_params_map['screen_name'].string_value in ('feed')))))\n",
    "                    group by (event_params_map['view_id'].string_value) ,beacon , device ,date(event_timestamp)\n",
    "                    ),\n",
    "\n",
    "''')"
   ]
  },
  {
   "cell_type": "code",
   "execution_count": 87,
   "id": "a22640a6-04a2-454c-a3fb-6f5bf344631e",
   "metadata": {},
   "outputs": [
    {
     "name": "stdout",
     "output_type": "stream",
     "text": [
      "                    metric_final as (\n",
      "                    select beacon , device, date(event_timestamp) as date_,\n",
      "                    case when ((event_name = 'view_item' and ((event_params_map['from_screen'].string_value in ('feed'))))) then event_params_map['from_view_id'].string_value else event_params_map['view_id'].string_value end,\n",
      "                    count(distinct case when ((event_name = 'view_item' and ((event_params_map['from_screen'].string_value in ('feed'))))) then event_params_map['view_id'].string_value else null end) as \"avg.view_item_from_feed_per_view\"\n",
      "                    from ath_st_client_side_tracking_without_dirt t \n",
      "                    where date(event_date) between date '2023-9-13' and date '2023-10-02' -- event_date 要多取一天\n",
      "                    and date(event_timestamp) between date '2023-9-13' and date '2023-10-1'\n",
      "                    and device in ('iphone','android')\n",
      "                    \n",
      "                    and ((event_name = 'view_feed') or (event_name = 'view_item' and ((event_params_map['from_screen'].string_value in ('feed')))))\n",
      "                    group by (case when ((event_name = 'view_item' and ((event_params_map['from_screen'].string_value in ('feed'))))) then event_params_map['from_view_id'].string_value else event_params_map['view_id'].string_value end) ,beacon , device ,date(event_timestamp)\n",
      "                    ),\n",
      "\n"
     ]
    }
   ],
   "source": [
    "# e.g. avg.view_item_from_feed_per_view \n",
    "# 如果 group by event 並且 event 是 view_type 就一定要設置 event_trigger ，用來判斷 view ->view 的次數或成效\n",
    "\n",
    "data_ = Dataset('beq_for_you_abexp' , '2023-9-13' , '2023-10-1' ,\n",
    "                 device = ['iphone' ,'android' ] , \n",
    "                 version= '6.23.0' ,\n",
    "                # trigger = {'view_feed': None},\n",
    "                metric = {\n",
    "                    'metric_trigger':{'source':'tracking','param':{'view_feed':None}},\n",
    "                    'metric_main':{'metric_name':'avg.view_item_from_feed_per_view' , 'source':'tracking' , 'group_level':'event' ,'method':'count_distinct', \n",
    "                                   'condition':{'view_item':{'from_screen':'feed'}},\n",
    "                                'metric':{'view':'view_id'}}}\n",
    "\n",
    ")\n",
    "\n",
    "\n",
    "# data_.sql_query_prepare(extract_data= 'metric_data')\n",
    "# print(data_.sql_query)\n",
    "\n",
    "\n",
    "print(\"\"\"                    metric_final as (\n",
    "                    select beacon , device, date(event_timestamp) as date_,\n",
    "                    case when ((event_name = 'view_item' and ((event_params_map['from_screen'].string_value in ('feed'))))) then event_params_map['from_view_id'].string_value else event_params_map['view_id'].string_value end,\n",
    "                    count(distinct case when ((event_name = 'view_item' and ((event_params_map['from_screen'].string_value in ('feed'))))) then event_params_map['view_id'].string_value else null end) as \"avg.view_item_from_feed_per_view\"\n",
    "                    from ath_st_client_side_tracking_without_dirt t \n",
    "                    where date(event_date) between date '2023-9-13' and date '2023-10-02' -- event_date 要多取一天\n",
    "                    and date(event_timestamp) between date '2023-9-13' and date '2023-10-1'\n",
    "                    and device in ('iphone','android')\n",
    "                    \n",
    "                    and ((event_name = 'view_feed') or (event_name = 'view_item' and ((event_params_map['from_screen'].string_value in ('feed')))))\n",
    "                    group by (case when ((event_name = 'view_item' and ((event_params_map['from_screen'].string_value in ('feed'))))) then event_params_map['from_view_id'].string_value else event_params_map['view_id'].string_value end) ,beacon , device ,date(event_timestamp)\n",
    "                    ),\n",
    "\"\"\")"
   ]
  },
  {
   "cell_type": "code",
   "execution_count": 95,
   "id": "60d444b9-63bd-41ad-b87b-b5fec447d693",
   "metadata": {},
   "outputs": [
    {
     "name": "stdout",
     "output_type": "stream",
     "text": [
      "                    metric_final as (\n",
      "                    select beacon , device, date(event_timestamp) as date_,\n",
      "                    case when ((event_name = 'view_item' and ((event_params_map['from_screen'].string_value in ('feed'))))) then event_params_map['from_view_id'].string_value else event_params_map['view_id'].string_value end,\n",
      "                    coalesce(max(cast(((event_name = 'view_item' and ((event_params_map['from_screen'].string_value in ('feed'))))) as int)), 0) as \"view_feed -> item\"\n",
      "                    from ath_st_client_side_tracking_without_dirt t \n",
      "                    where date(event_date) between date '2023-9-13' and date '2023-10-02' -- event_date 要多取一天\n",
      "                    and date(event_timestamp) between date '2023-9-13' and date '2023-10-1'\n",
      "                    and device in ('iphone','android')\n",
      "                    \n",
      "                    and ((event_name = 'view_feed') or (event_name = 'view_item' and ((event_params_map['from_screen'].string_value in ('feed')))))\n",
      "                    group by (case when ((event_name = 'view_item' and ((event_params_map['from_screen'].string_value in ('feed'))))) then event_params_map['from_view_id'].string_value else event_params_map['view_id'].string_value end) ,beacon , device ,date(event_timestamp)\n",
      "                    ),\n",
      "\n"
     ]
    }
   ],
   "source": [
    "# 也可以設置 boolean，判斷 view_feed->view_item 的 adoption，同樣需要設置 metric_trigger，並且 boolean 可以不用 input metric ，直接用 condition 判斷\n",
    "data_ = Dataset('beq_for_you_abexp' , '2023-9-13' , '2023-10-1' ,\n",
    "                 device = ['iphone' ,'android' ] , \n",
    "                 version= '6.23.0' ,\n",
    "                # trigger = {'view_feed': None},\n",
    "                metric = {\n",
    "                    'metric_trigger':{'source':'tracking','param':{'view_feed':None}},\n",
    "                    'metric_main':{'metric_name':'view_feed -> item' , 'source':'tracking' , 'group_level':'event' ,'method':'boolean', \n",
    "                                   'condition':{'view_item':{'from_screen':'feed'}}\n",
    "                                }}\n",
    "\n",
    ")\n",
    "\n",
    "# data_.sql_query_prepare(extract_data= 'metric_data')\n",
    "# print(data_.sql_query)\n",
    "\n",
    "\n",
    "\n",
    "print('''                    metric_final as (\n",
    "                    select beacon , device, date(event_timestamp) as date_,\n",
    "                    case when ((event_name = 'view_item' and ((event_params_map['from_screen'].string_value in ('feed'))))) then event_params_map['from_view_id'].string_value else event_params_map['view_id'].string_value end,\n",
    "                    coalesce(max(cast(((event_name = 'view_item' and ((event_params_map['from_screen'].string_value in ('feed'))))) as int)), 0) as \"view_feed -> item\"\n",
    "                    from ath_st_client_side_tracking_without_dirt t \n",
    "                    where date(event_date) between date '2023-9-13' and date '2023-10-02' -- event_date 要多取一天\n",
    "                    and date(event_timestamp) between date '2023-9-13' and date '2023-10-1'\n",
    "                    and device in ('iphone','android')\n",
    "                    \n",
    "                    and ((event_name = 'view_feed') or (event_name = 'view_item' and ((event_params_map['from_screen'].string_value in ('feed')))))\n",
    "                    group by (case when ((event_name = 'view_item' and ((event_params_map['from_screen'].string_value in ('feed'))))) then event_params_map['from_view_id'].string_value else event_params_map['view_id'].string_value end) ,beacon , device ,date(event_timestamp)\n",
    "                    ),\n",
    "''')"
   ]
  },
  {
   "cell_type": "code",
   "execution_count": 101,
   "id": "ba8944d0-fa18-4b00-bd06-0647ed15a09d",
   "metadata": {
    "collapsed": true,
    "jupyter": {
     "outputs_hidden": true
    },
    "tags": []
   },
   "outputs": [
    {
     "name": "stdout",
     "output_type": "stream",
     "text": [
      "\n",
      "                \n",
      "        with expt as (\n",
      "                select \n",
      "                    beacon, uid, exp_id, var_id, date(created) as created_date\n",
      "                from ath_experiment\n",
      "            where exp_id = 'beq_for_you_abexp'\n",
      "            and date(created) <= date '2023-10-1'\n",
      "            )\n",
      "            , buyer_journey as (\n",
      "                select \n",
      "                    visit_date, \n",
      "                    first_session_timestamp,\n",
      "                    date(at_timezone(first_session_timestamp, 'Asia/Taipei')) as session_date,\n",
      "                    beacon_uid, \n",
      "                    b.beacon as beacon,\n",
      "                    b.device as device,\n",
      "                    b.session_duration_sec session_duration,\n",
      "                    geo,\n",
      "                    max_member_status,\n",
      "                    is_seller, \n",
      "                    first_session_timestamp,\n",
      "                    funnel_e1,\n",
      "                    funnel_e2,\n",
      "                    funnel_interest,\n",
      "                    funnel_consideration,\n",
      "                    add_to_cart,\n",
      "                    funnel_purchase,\n",
      "                    e2__uniq_items,\n",
      "                    if(funnel['view_item'] is null, 0, funnel['view_item'].event_cnt) view_item_cnt,\n",
      "                    e2__session_duration,\n",
      "                    interest__shop_list,\n",
      "                    interest__item_list,\n",
      "                    search__term_list\n",
      "                from ath_buyer_journey\n",
      "                cross join unnest(beacon) as t(b)\n",
      "                where visit_date >= date'2023-9-13' and visit_date <= date'2023-10-1' \n",
      "            ), \n",
      "            \n",
      "            beacon_ver as ( -- 改成 beacon 更新的最小日期\n",
      "                select \n",
      "                    beacon,\n",
      "                    device,\n",
      "                    min(visit_date) min_update_date\n",
      "                from ath_bi_beacon_with_device_info\n",
      "                where visit_date between date'2023-9-13' and date'2023-10-1' \n",
      "                and ((device = 'iphone' and \n",
      "                    (cast(split(app_version, '.')[1] as int)*10000\n",
      "                        +cast(split(app_version, '.')[2] as int)*100\n",
      "                        +cast(split(app_version, '.')[3] as int)) >= \n",
      "                    (cast(split('6.23.0', '.')[1] as int)*10000\n",
      "                        +cast(split('6.23.0', '.')[2] as int)*100\n",
      "                        +cast(split('6.23.0', '.')[3] as int)))\n",
      "                    or \n",
      "                    (device = 'android' and \n",
      "                    (cast(split(app_version, '.')[1] as int)*10000\n",
      "                        +cast(split(app_version, '.')[2] as int)*100\n",
      "                        +cast(split(app_version, '.')[3] as int)) >= \n",
      "                    (cast(split('6.23.0', '.')[1] as int)*10000\n",
      "                        +cast(split('6.23.0', '.')[2] as int)*100\n",
      "                        +cast(split('6.23.0', '.')[3] as int)))\n",
      "                        )   \n",
      "                group by \n",
      "                    beacon,\n",
      "                    device\n",
      "            ),\n",
      "            \n",
      "                expt_journey as (\n",
      "                    select\n",
      "                        exp_id,\n",
      "                        var_id,\n",
      "                        buyer_journey.visit_date,\n",
      "                        buyer_journey.beacon_uid,\n",
      "                        buyer_journey.beacon,\n",
      "                        buyer_journey.device,\n",
      "                        buyer_journey.view_item_cnt,\n",
      "                        buyer_journey.session_duration,\n",
      "                        buyer_journey.funnel_e1,\n",
      "                        buyer_journey.funnel_e2,\n",
      "                        buyer_journey.funnel_interest,\n",
      "                        buyer_journey.funnel_consideration,\n",
      "                        buyer_journey.add_to_cart,\n",
      "                        buyer_journey.funnel_purchase\n",
      "                    from buyer_journey\n",
      "                    inner join expt\n",
      "                        on buyer_journey.beacon = expt.beacon\n",
      "                        and buyer_journey.visit_date >= expt.created_date --visit date 大於被分組的時間 created date\n",
      "                    left join beacon_ver b on buyer_journey.beacon = b.beacon and buyer_journey.device = b.device\n",
      "                    where \n",
      "                    buyer_journey.device in ('iphone','android') and buyer_journey.visit_date >= min_update_date \n",
      "                    \n",
      "                    -- uid 中同個 device 可能會有多個 beacon 的數值， cross join 後需要先 group\n",
      "                ),\n",
      "        \n",
      "                \n",
      "                \n",
      "                    metric_final as (\n",
      "                    select beacon , device, date(event_timestamp) as date_,\n",
      "                    ((event_name = 'view_item' and ((event_params_map['from_screen'].string_value in ('feed'))))) as \"view_feed -> item\"\n",
      "                    from ath_st_client_side_tracking_without_dirt t \n",
      "                    where date(event_date) between date '2023-9-13' and date '2023-10-02' -- event_date 要多取一天\n",
      "                    and date(event_timestamp) between date '2023-9-13' and date '2023-10-1'\n",
      "                    and device in ('iphone','android')\n",
      "                    \n",
      "                    and ((event_name = 'view_feed') or (event_name = 'view_item' and ((event_params_map['from_screen'].string_value in ('feed')))))\n",
      "                    ),\n",
      "                    \n",
      "                \n",
      "                join_df as (\n",
      "                select \n",
      "                    exp_id,\n",
      "                    var_id,\n",
      "                    beacon_uid, \n",
      "                    expt_journey.device,\n",
      "                    view_feed -> item as \"view_feed -> item\"\n",
      "                from expt_journey\n",
      "                \n",
      "                inner join metric_final on \n",
      "                    expt_journey.device = metric_final.device and expt_journey.beacon = metric_final.beacon and expt_journey.visit_date = metric_final.date_\n",
      "                    \n",
      "                \n",
      "                -- uid 中同個 device 可能會有多個 beacon 的數值， cross join 後需要先 group\n",
      "                ),\n",
      "                \n",
      "                \n",
      "            device_metric as (\n",
      "            select \n",
      "                exp_id,\n",
      "                var_id,\n",
      "                beacon_uid, \n",
      "                device,\n",
      "                coalesce(max(cast(\"view_feed -> item\" as int)), 0) as \"device_view_feed -> item\"\n",
      "            from join_df\n",
      "            group by exp_id,var_id,beacon_uid,device\n",
      "            ),\n",
      "            -- 計算該 beacon_uid 每一天 view_item 的數量以及 session_duration (包含不同 device)\n",
      "            all_metric as (\n",
      "            select \n",
      "                exp_id,\n",
      "                var_id,\n",
      "                beacon_uid, \n",
      "                coalesce(max(cast(\"view_feed -> item\" as int)), 0) as \"all_view_feed -> item\"\n",
      "            from join_df\n",
      "            group by exp_id,var_id, beacon_uid\n",
      "            )\n",
      "            select \n",
      "            device_metric.*,\n",
      "            all_metric.\"all_view_feed -> item\"\n",
      "            from device_metric\n",
      "            left join all_metric \n",
      "            on all_metric.var_id =device_metric.var_id and all_metric.beacon_uid = device_metric.beacon_uid\n",
      "                \n",
      "                \n"
     ]
    }
   ],
   "source": [
    "# group by user 事例\n",
    "data_ = Dataset('beq_for_you_abexp' , '2023-9-13' , '2023-10-1' ,\n",
    "                 device = ['iphone' ,'android' ] , \n",
    "                 version= '6.23.0' ,\n",
    "                # trigger = {'view_feed': None},\n",
    "                metric = {\n",
    "                    'metric_trigger':{'source':'tracking','param':{'view_feed':None}},\n",
    "                    'metric_main':{'metric_name':'view_feed -> item' , 'source':'tracking' , 'group_level':'user' ,'method':'boolean', \n",
    "                                   'condition':{'view_item':{'from_screen':'feed'}}\n",
    "                                }}\n",
    "\n",
    ")\n",
    "\n",
    "data_.sql_query_prepare(extract_data= 'metric_data')\n",
    "print(data_.sql_query)\n"
   ]
  },
  {
   "cell_type": "markdown",
   "id": "1afd1b5a-20b5-45c0-a9ca-88c3b4990f2e",
   "metadata": {},
   "source": [
    "# Pre Test"
   ]
  },
  {
   "cell_type": "markdown",
   "id": "6a7d335f-7052-4591-aa55-cf72d45e7976",
   "metadata": {},
   "source": [
    "## SRM"
   ]
  },
  {
   "cell_type": "code",
   "execution_count": 107,
   "id": "f0b0c136-3d79-4990-a9eb-ea591b1e3bbf",
   "metadata": {},
   "outputs": [
    {
     "data": {
      "text/plain": [
       "{'iphone': {'chi2_stat': 1.0737578896261528,\n",
       "  'p_value': 0.7834125091494782,\n",
       "  'is_significant': False},\n",
       " 'android': {'chi2_stat': 2.9352563097664492,\n",
       "  'p_value': 0.40171547491124693,\n",
       "  'is_significant': False},\n",
       " 'all': {'chi2_stat': 1.2362295979139277,\n",
       "  'p_value': 0.7443287098994678,\n",
       "  'is_significant': False}}"
      ]
     },
     "execution_count": 107,
     "metadata": {},
     "output_type": "execute_result"
    }
   ],
   "source": [
    "from sample.data_prep.data_pre_tests import srm_check\n",
    "\n",
    "srm_check(raw_data , [0,1,2,3] , [20,20,30,30] , device = ['iphone','android' , 'all'])"
   ]
  },
  {
   "cell_type": "markdown",
   "id": "5146cb8c-8555-4d91-8914-d39e573648de",
   "metadata": {},
   "source": [
    "## AA/A"
   ]
  },
  {
   "cell_type": "code",
   "execution_count": 112,
   "id": "23ba8086-7b74-4a25-a5e3-63a609f91026",
   "metadata": {},
   "outputs": [
    {
     "data": {
      "text/plain": [
       "{'all_avg_view_item': {'group_1_mean': 28.673406664509866,\n",
       "  'group_2_mean': 29.13847643641059,\n",
       "  'mean_diff': 0.46506977190072263,\n",
       "  'z_stat': 0.41375264125470496,\n",
       "  'p_value': 0.6790552706221336,\n",
       "  'is_significant': False,\n",
       "  'se': 1.1240285270213586},\n",
       " 'all_avg_duration': {'group_1_mean': 941.1413641104992,\n",
       "  'group_2_mean': 915.9531556363119,\n",
       "  'mean_diff': -25.188208474187377,\n",
       "  'z_stat': -1.1561623276856363,\n",
       "  'p_value': 0.24761476583004294,\n",
       "  'is_significant': False,\n",
       "  'se': 21.786048438897172},\n",
       " 'all_e2': {'group_1_mean': 0.7829181494661922,\n",
       "  'group_2_mean': 0.776307295029051,\n",
       "  'mean_diff': -0.006610854437141156,\n",
       "  'z_stat': -0.8871584718450456,\n",
       "  'p_value': 0.3749935871454233,\n",
       "  'is_significant': False,\n",
       "  'se': 0.007451717643401857}}"
      ]
     },
     "execution_count": 112,
     "metadata": {},
     "output_type": "execute_result"
    }
   ],
   "source": [
    "from sample.data_prep.data_pre_tests import metric_test\n",
    "temp = metric_test(raw_data , [0,1] , device = ['all' ])\n",
    "temp"
   ]
  },
  {
   "cell_type": "code",
   "execution_count": 113,
   "id": "e3389f88-1e07-4135-845a-97500e0bd91f",
   "metadata": {},
   "outputs": [
    {
     "data": {
      "text/plain": [
       "{'android_avg_view_item': {'group_1_mean': 40.81418092909536,\n",
       "  'group_2_mean': 39.204905063291136,\n",
       "  'mean_diff': -1.6092758658042214,\n",
       "  'z_stat': -0.46656734648605086,\n",
       "  'p_value': 0.6408094536790938,\n",
       "  'is_significant': False,\n",
       "  'se': 3.4491823697574913},\n",
       " 'android_avg_duration': {'group_1_mean': 1007.0101853566691,\n",
       "  'group_2_mean': 945.4242729393294,\n",
       "  'mean_diff': -61.58591241733973,\n",
       "  'z_stat': -1.1797256938561684,\n",
       "  'p_value': 0.23810933131840706,\n",
       "  'is_significant': False,\n",
       "  'se': 52.20358659480739},\n",
       " 'android_e2': {'group_1_mean': 0.8231458842705787,\n",
       "  'group_2_mean': 0.819620253164557,\n",
       "  'mean_diff': -0.003525631106021665,\n",
       "  'z_stat': -0.2295972476854242,\n",
       "  'p_value': 0.8184047457772938,\n",
       "  'is_significant': False,\n",
       "  'se': 0.01535572025171749},\n",
       " 'iphone_avg_view_item': {'group_1_mean': 25.667003027245208,\n",
       "  'group_2_mean': 26.558596918085968,\n",
       "  'mean_diff': 0.8915938908407597,\n",
       "  'z_stat': 0.808636531457828,\n",
       "  'p_value': 0.41872424528967334,\n",
       "  'is_significant': False,\n",
       "  'se': 1.1025891808689057},\n",
       " 'iphone_avg_duration': {'group_1_mean': 924.8303563064526,\n",
       "  'group_2_mean': 908.4001361166432,\n",
       "  'mean_diff': -16.430220189809347,\n",
       "  'z_stat': -0.6871285071320303,\n",
       "  'p_value': 0.4920017514863231,\n",
       "  'is_significant': False,\n",
       "  'se': 23.91142270954029},\n",
       " 'iphone_e2': {'group_1_mean': 0.7729566094853683,\n",
       "  'group_2_mean': 0.7652068126520681,\n",
       "  'mean_diff': -0.007749796833300127,\n",
       "  'z_stat': -0.9142069152085096,\n",
       "  'p_value': 0.36060813120152857,\n",
       "  'is_significant': False,\n",
       "  'se': 0.008477070895413842}}"
      ]
     },
     "execution_count": 113,
     "metadata": {},
     "output_type": "execute_result"
    }
   ],
   "source": [
    "temp = metric_test(raw_data , [0,1] , device = ['android' , 'iphone'])\n",
    "temp"
   ]
  },
  {
   "cell_type": "markdown",
   "id": "8d14d138-5e60-43ff-a865-e5f33d80028a",
   "metadata": {},
   "source": [
    "# Metric Test"
   ]
  },
  {
   "cell_type": "code",
   "execution_count": 118,
   "id": "57973246-3a4f-4ccf-9735-fc019500b2b0",
   "metadata": {},
   "outputs": [
    {
     "data": {
      "text/plain": [
       "{'all_e1_e2': {'group_1_mean': 0.7832948708404676,\n",
       "  'group_2_mean': 0.7728026533996684,\n",
       "  'mean_diff': -0.0104922174407992,\n",
       "  'z_stat': -1.9230933365874654,\n",
       "  'p_value': 0.05446832903995369,\n",
       "  'is_significant': False,\n",
       "  'se': 0.005455906502914555}}"
      ]
     },
     "execution_count": 118,
     "metadata": {},
     "output_type": "execute_result"
    }
   ],
   "source": [
    "# merge_aa 可以 merge 0,1 ->1\n",
    "# metrics_list 要設置要檢測的 metric, 只接受 list\n",
    "\n",
    "metric_test(e1_e2_data ,[1,3] , device = 'all' ,metrics_list = ['e1_e2'], significant_level = .05 , merge_aa = True)"
   ]
  }
 ],
 "metadata": {
  "kernelspec": {
   "display_name": "Python 3 (ipykernel)",
   "language": "python",
   "name": "python3"
  },
  "language_info": {
   "codemirror_mode": {
    "name": "ipython",
    "version": 3
   },
   "file_extension": ".py",
   "mimetype": "text/x-python",
   "name": "python",
   "nbconvert_exporter": "python",
   "pygments_lexer": "ipython3",
   "version": "3.9.12"
  }
 },
 "nbformat": 4,
 "nbformat_minor": 5
}
