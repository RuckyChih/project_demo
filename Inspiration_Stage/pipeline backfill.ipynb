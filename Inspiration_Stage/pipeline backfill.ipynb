{
 "cells": [
  {
   "cell_type": "code",
   "execution_count": 8,
   "id": "92f0f1af-35a5-4be5-ae86-634ec43e07cb",
   "metadata": {},
   "outputs": [
    {
     "name": "stdout",
     "output_type": "stream",
     "text": [
      "['2024-08-19', '2024-08-20']\n"
     ]
    }
   ],
   "source": [
    "from datetime import datetime, timedelta\n",
    "\n",
    "def generate_date_list(start_date, end_date):\n",
    "    # 将字符串日期转换为 datetime 对象\n",
    "    start = datetime.strptime(start_date, '%Y-%m-%d')\n",
    "    end = datetime.strptime(end_date, '%Y-%m-%d')\n",
    "    \n",
    "    # 初始化日期列表\n",
    "    date_list = []\n",
    "    \n",
    "    # 生成日期列表\n",
    "    current_date = start\n",
    "    while current_date <= end:\n",
    "        date_list.append(current_date.strftime('%Y-%m-%d'))\n",
    "        current_date += timedelta(days=1)\n",
    "    \n",
    "    return date_list\n",
    "\n",
    "# 示例使用\n",
    "start_date = '2024-08-19'\n",
    "end_date = '2024-08-20'\n",
    "dates = generate_date_list(start_date, end_date)\n",
    "print(dates)\n"
   ]
  },
  {
   "cell_type": "code",
   "execution_count": 10,
   "id": "666bed51-bd9c-45e3-b088-d366113afa94",
   "metadata": {},
   "outputs": [
    {
     "name": "stdout",
     "output_type": "stream",
     "text": [
      "Start Import\n",
      "Start Extract Data\n",
      "embedding finish!\n",
      "exploring event finish!\n",
      "Start Clean Data\n",
      "drop duplicated finish\n",
      "view_item\n",
      "view_shop\n",
      "view_topic\n",
      "tag same event finish\n",
      "Start Embedding Tag\n",
      "shop finish\n",
      "search finish\n",
      "item finish\n",
      "related impr finish\n",
      "Start fit model\n",
      "Start storage df_final\n",
      "Start Storage df_uu\n",
      "s3://pinkoi-analysis/athena_data/inspiration_stage/user_data_former/\n",
      "\n",
      "Building prefix dict from the default dictionary ...\n",
      "Dumping model to file cache /var/folders/3r/d8j5h54948qf438zmfdy608w0000gn/T/jieba.cache\n",
      "Loading model cost 0.832 seconds.\n",
      "Prefix dict has been built successfully.\n",
      "\n",
      "Start Import\n",
      "Start Extract Data\n",
      "embedding finish!\n",
      "exploring event finish!\n",
      "Start Clean Data\n",
      "drop duplicated finish\n",
      "view_item\n",
      "view_shop\n",
      "view_topic\n",
      "tag same event finish\n",
      "Start Embedding Tag\n",
      "shop finish\n",
      "search finish\n",
      "item finish\n",
      "related impr finish\n",
      "Start fit model\n",
      "Start storage df_final\n",
      "Start Storage df_uu\n",
      "s3://pinkoi-analysis/athena_data/inspiration_stage/user_data_former/\n",
      "\n",
      "Building prefix dict from the default dictionary ...\n",
      "Loading model from cache /var/folders/3r/d8j5h54948qf438zmfdy608w0000gn/T/jieba.cache\n",
      "Loading model cost 0.943 seconds.\n",
      "Prefix dict has been built successfully.\n",
      "\n"
     ]
    }
   ],
   "source": [
    "import subprocess\n",
    "\n",
    "error_date = []\n",
    "\n",
    "for d in dates:\n",
    "    # 运行 main.py 并通过标准输入提供输入\n",
    "    process = subprocess.Popen(['python', 'main.py'], stdin=subprocess.PIPE, stdout=subprocess.PIPE, stderr=subprocess.PIPE, text=True)\n",
    "\n",
    "    # 将输入值发送到 main.py\n",
    "    stdout, stderr = process.communicate(input=d)\n",
    "\n",
    "    # 打印 main.py 的输出\n",
    "    print(stdout)\n",
    "    if stderr:\n",
    "        error_date.append(d)\n",
    "        print(stderr)\n"
   ]
  }
 ],
 "metadata": {
  "kernelspec": {
   "display_name": "Python 3 (ipykernel)",
   "language": "python",
   "name": "python3"
  },
  "language_info": {
   "codemirror_mode": {
    "name": "ipython",
    "version": 3
   },
   "file_extension": ".py",
   "mimetype": "text/x-python",
   "name": "python",
   "nbconvert_exporter": "python",
   "pygments_lexer": "ipython3",
   "version": "3.9.12"
  },
  "toc-autonumbering": true,
  "toc-showcode": false,
  "toc-showmarkdowntxt": true
 },
 "nbformat": 4,
 "nbformat_minor": 5
}
